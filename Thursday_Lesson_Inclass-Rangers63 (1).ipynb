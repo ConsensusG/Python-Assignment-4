{
 "cells": [
  {
   "cell_type": "markdown",
   "metadata": {},
   "source": [
    "# Object-Oriented-Programming (OOP)"
   ]
  },
  {
   "cell_type": "markdown",
   "metadata": {},
   "source": [
    "## Tasks Today:\n",
    "\n",
    "   \n",
    "\n",
    "1) <b>Creating a Class (Initializing/Declaring)</b> <br>\n",
    "2) <b>Using a Class (Instantiating)</b> <br>\n",
    " &nbsp;&nbsp;&nbsp;&nbsp; a) Creating One Instance <br>\n",
    " &nbsp;&nbsp;&nbsp;&nbsp; b) Creating Multiple Instances <br>\n",
    " &nbsp;&nbsp;&nbsp;&nbsp; c) In-Class Exercise #1 - Create a Class 'Car' and instantiate three different makes of cars <br>\n",
    "3) <b>The \\__init\\__() Method</b> <br>\n",
    " &nbsp;&nbsp;&nbsp;&nbsp; a) The 'self' Attribute <br>\n",
    "4) <b>Class Attributes</b> <br>\n",
    " &nbsp;&nbsp;&nbsp;&nbsp; a) Initializing Attributes <br>\n",
    " &nbsp;&nbsp;&nbsp;&nbsp; b) Setting an Attribute Outside of the \\__init\\__() Method <br>\n",
    " &nbsp;&nbsp;&nbsp;&nbsp; c) Setting Defaults for Attributes <br>\n",
    " &nbsp;&nbsp;&nbsp;&nbsp; d) Accessing Class Attributes <br>\n",
    " &nbsp;&nbsp;&nbsp;&nbsp; e) Changing Class Attributes <br>\n",
    " &nbsp;&nbsp;&nbsp;&nbsp; f) In-Class Exercise #2 - Add a color and wheels attribute to your 'Car' class <br>\n",
    "5) <b>Class Methods</b> <br>\n",
    " &nbsp;&nbsp;&nbsp;&nbsp; a) Creating <br>\n",
    " &nbsp;&nbsp;&nbsp;&nbsp; b) Calling <br>\n",
    " &nbsp;&nbsp;&nbsp;&nbsp; c) Modifying an Attribute's Value Through a Method <br>\n",
    " &nbsp;&nbsp;&nbsp;&nbsp; d) Incrementing an Attribute's Value Through a Method <br>\n",
    " &nbsp;&nbsp;&nbsp;&nbsp; e) In-Class Exercise #3 - Add a method that prints the cars color and wheel number, then call them <br>\n",
    "6) <b>Inheritance</b> <br>\n",
    " &nbsp;&nbsp;&nbsp;&nbsp; a) Syntax for Inheriting from a Parent Class <br>\n",
    " &nbsp;&nbsp;&nbsp;&nbsp; b) The \\__init\\__() Method for a Child Class (super()) <br>\n",
    " &nbsp;&nbsp;&nbsp;&nbsp; c) Defining Attributes and Methods for the Child Class <br>\n",
    " &nbsp;&nbsp;&nbsp;&nbsp; d) Method Overriding <br>\n",
    " &nbsp;&nbsp;&nbsp;&nbsp; e) In-Class Exercise #4 - Create a class 'Ford' that inherits from 'Car' class and initialize it as a Blue Ford Explorer with 4 wheels using the super() method <br>\n",
    "7) <b>Classes as Attributes</b> <br>\n",
    "8) <b>Exercises</b> <br>\n",
    " &nbsp;&nbsp;&nbsp;&nbsp; a) Exercise #1 - Turn the shopping cart program from yesterday into an object-oriented program <br>"
   ]
  },
  {
   "cell_type": "markdown",
   "metadata": {},
   "source": [
    "## Creating a Class (Initializing/Declaring)\n",
    "<p>When creating a class, function, or even a variable you are initializing that object. Initializing and Declaring occur at the same time in Python, whereas in lower level languages you have to declare an object before initializing it. This is the first step in the process of using a class.</p>"
   ]
  },
  {
   "cell_type": "code",
   "execution_count": 1,
   "metadata": {},
   "outputs": [
    {
     "name": "stdout",
     "output_type": "stream",
     "text": [
      "great armadillo spotters\n"
     ]
    }
   ],
   "source": [
    "class Car():\n",
    "    wheels = 4\n",
    "    color = 'blue'\n",
    "    windshield_wipers = 'creeeek scratch'\n",
    "\n",
    "    def headlights(self):\n",
    "        print(\"great armadillo spotters\")\n",
    "\n",
    "volkswagen = Car()\n",
    "volkswagen.headlights()\n"
   ]
  },
  {
   "cell_type": "markdown",
   "metadata": {},
   "source": [
    "## Using a Class (Instantiating)\n",
    "<p>The process of creating a class is called <i>Instantiating</i>. Each time you create a variable of that type of class, it is referred to as an <i>Instance</i> of that class. This is the second step in the process of using a class.</p>"
   ]
  },
  {
   "cell_type": "markdown",
   "metadata": {},
   "source": [
    "##### Creating One Instance"
   ]
  },
  {
   "cell_type": "code",
   "execution_count": 2,
   "metadata": {},
   "outputs": [
    {
     "name": "stdout",
     "output_type": "stream",
     "text": [
      "blue\n"
     ]
    }
   ],
   "source": [
    "ford = Car()\n",
    "\n",
    "print(ford.color)"
   ]
  },
  {
   "cell_type": "markdown",
   "metadata": {},
   "source": [
    "##### Creating Multiple Instances"
   ]
  },
  {
   "cell_type": "code",
   "execution_count": 4,
   "metadata": {},
   "outputs": [
    {
     "name": "stdout",
     "output_type": "stream",
     "text": [
      "blue\n"
     ]
    }
   ],
   "source": [
    "chevrolet = Car()\n",
    "honda = Car()\n",
    "porsche = Car()\n",
    "\n",
    "print(porsche.color)"
   ]
  },
  {
   "cell_type": "markdown",
   "metadata": {},
   "source": [
    "##### In-Class Exercise #1 - Create a Class 'Car' and Instantiate three different makes of cars"
   ]
  },
  {
   "cell_type": "code",
   "execution_count": 5,
   "metadata": {},
   "outputs": [
    {
     "name": "stdout",
     "output_type": "stream",
     "text": [
      "True\n"
     ]
    }
   ],
   "source": [
    "class Car():\n",
    "    doors = 2\n",
    "    color = 'ice_cream'\n",
    "    wheels = 4\n",
    "    dubs = True\n",
    "\n",
    "Hyundai = Car()\n",
    "Nissan = Car()\n",
    "Audi = Car()\n",
    "\n",
    "print(Audi.dubs)"
   ]
  },
  {
   "cell_type": "markdown",
   "metadata": {},
   "source": [
    "## The \\__init\\__() Method <br>\n",
    "<p>This method is used in almost every created class, and called only once upon the creation of the class instance. This method will initialize all variables needed for the object.</p>"
   ]
  },
  {
   "cell_type": "code",
   "execution_count": 6,
   "metadata": {},
   "outputs": [],
   "source": [
    "class Car():\n",
    "    engine = '4.7L'  #global within the class- any method inside the class can call upon this variable\n",
    "\n",
    "    def __init__(self, color, wheels):\n",
    "        self.color = color\n",
    "        self.wheels = wheels\n",
    "\n",
    "mazda = Car('black', 4)\n"
   ]
  },
  {
   "cell_type": "markdown",
   "metadata": {},
   "source": [
    "##### The 'self' Attribute <br>\n",
    "<p>This attribute is required to keep track of specific instance's attributes. Without the self attribute, the program would not know how to reference or keep track of an instance's attributes.</p>"
   ]
  },
  {
   "cell_type": "code",
   "execution_count": null,
   "metadata": {},
   "outputs": [],
   "source": [
    "# see above\n",
    "\n",
    " "
   ]
  },
  {
   "cell_type": "markdown",
   "metadata": {},
   "source": [
    "## Class Attributes <br>\n",
    "<p>While variables are inside of a class, they are referred to as attributes and not variables. When someone says 'attribute' you know they're speaking about a class. Attributes can be initialized through the init method, or outside of it.</p>"
   ]
  },
  {
   "cell_type": "markdown",
   "metadata": {},
   "source": [
    "##### Initializing Attributes"
   ]
  },
  {
   "cell_type": "code",
   "execution_count": 9,
   "metadata": {},
   "outputs": [
    {
     "name": "stdout",
     "output_type": "stream",
     "text": [
      "This was designed to break.\n",
      "red\n"
     ]
    }
   ],
   "source": [
    "# see above\n",
    "class Toy():\n",
    "    kind  = 'car'\n",
    "\n",
    "    def __init__(self, rooftop, horn, wheels):\n",
    "        self.rooftop = rooftop\n",
    "        self.horn = horn\n",
    "        self.wheels = wheels\n",
    "\n",
    "    def breakage(self, material):\n",
    "        if material != \"metal\": \n",
    "            print(\"This was designed to break.\")\n",
    "        else:\n",
    "            print('This should last')\n",
    "\n",
    "tonka_truck = Toy(1, 1, 4) \n",
    "hotwheels_car = Toy(2, 3, 8)\n",
    "\n",
    "tonka_truck.breakage(\"plastic\")\n",
    "\n",
    "class Car():\n",
    "    engine = '4.7L'\n",
    "\n",
    "    def __init__(self, wheels, color='blue'):\n",
    "        self.wheels = wheels\n",
    "        self.color = color\n",
    "\n",
    "jeep = Car(4, 'red')\n",
    "print(jeep.color)\n",
    "\n",
    "\n"
   ]
  },
  {
   "cell_type": "markdown",
   "metadata": {},
   "source": [
    "##### Accessing Class Attributes"
   ]
  },
  {
   "cell_type": "code",
   "execution_count": 10,
   "metadata": {
    "scrolled": true
   },
   "outputs": [
    {
     "data": {
      "text/plain": [
       "8"
      ]
     },
     "execution_count": 10,
     "metadata": {},
     "output_type": "execute_result"
    }
   ],
   "source": [
    "# See Above\n",
    "\n",
    "tonka_truck.rooftop\n",
    "hotwheels_car.wheels"
   ]
  },
  {
   "cell_type": "markdown",
   "metadata": {},
   "source": [
    "##### Setting Defaults for Attributes"
   ]
  },
  {
   "cell_type": "code",
   "execution_count": 11,
   "metadata": {},
   "outputs": [
    {
     "data": {
      "text/plain": [
       "'Blue'"
      ]
     },
     "execution_count": 11,
     "metadata": {},
     "output_type": "execute_result"
    }
   ],
   "source": [
    "class Car():\n",
    "    engine = '4.7L'\n",
    "\n",
    "    def __init__(self, wheels):\n",
    "        self.wheels = wheels\n",
    "        self.color = 'Blue'\n",
    "\n",
    "honda = Car(4)\n",
    "honda.color"
   ]
  },
  {
   "cell_type": "markdown",
   "metadata": {},
   "source": [
    "##### Changing Class Attributes <br>\n",
    "<p>Keep in mind there are global class attributes and then there are attributes only available to each class instance which won't effect other classes.</p>"
   ]
  },
  {
   "cell_type": "code",
   "execution_count": 12,
   "metadata": {},
   "outputs": [
    {
     "name": "stdout",
     "output_type": "stream",
     "text": [
      "Before change: Blue\n",
      "\n",
      "After change: white\n",
      "Blue\n"
     ]
    }
   ],
   "source": [
    "jeep = Car(8)\n",
    "\n",
    "print(f\"Before change: {jeep.color}\")\n",
    "\n",
    "jeep.color = \"white\"\n",
    "\n",
    "print(f'\\nAfter change: {jeep.color}')\n",
    "\n",
    "print(honda.color)"
   ]
  },
  {
   "cell_type": "code",
   "execution_count": null,
   "metadata": {},
   "outputs": [],
   "source": []
  },
  {
   "cell_type": "markdown",
   "metadata": {},
   "source": [
    "##### In-Class Exercise #2 - Add a doors and seats attribute to your 'Car' class then print out two different instances with different doors and seats"
   ]
  },
  {
   "cell_type": "code",
   "execution_count": 13,
   "metadata": {},
   "outputs": [
    {
     "name": "stdout",
     "output_type": "stream",
     "text": [
      "1\n",
      "50\n"
     ]
    }
   ],
   "source": [
    "class Car():\n",
    "    engine = '4.7L'\n",
    "\n",
    "    def __init__(self, wheels, doors, seats):\n",
    "        self.wheels = wheels\n",
    "        self.color = 'Blue'\n",
    "        self.doors = doors\n",
    "        self.seats = seats\n",
    "\n",
    "Wiener_mobile = Car(8, 1, 2)\n",
    "Clown = Car(4, 2, 50)\n",
    "\n",
    "print(Wiener_mobile.doors)\n",
    "print(Clown.seats)\n"
   ]
  },
  {
   "cell_type": "markdown",
   "metadata": {},
   "source": [
    "## Class Methods <br>\n",
    "<p>While inside of a class, functions are referred to as 'methods'. If you hear someone mention methods, they're speaking about classes. Methods are essentially functions, but only callable on the instances of a class.</p>"
   ]
  },
  {
   "cell_type": "markdown",
   "metadata": {},
   "source": [
    "##### Creating"
   ]
  },
  {
   "cell_type": "code",
   "execution_count": 14,
   "metadata": {},
   "outputs": [],
   "source": [
    "class ShoppingBag():\n",
    "    \"\"\"\n",
    "    The shaooping bag class will have handles, capacity, and items to place inside.\n",
    "    Attributes for the class:\n",
    "    - handles: expected to be an integer\n",
    "    - capacity: expected to be a string OR an integer\n",
    "    - Items: expected to be a list\n",
    "    \"\"\"\n",
    "\n",
    "    def __init__ (self, handles, capacity, items):\n",
    "        self.handles = handles\n",
    "        self.capacity = capacity\n",
    "        self.items = items\n",
    "\n",
    "    #write a method that shows the items in our shoppong bag.\n",
    "    def showShoppingBag(self):\n",
    "        if len(self.items) == 0:\n",
    "            print(\"Ain't nothin' in yo bag!\")\n",
    "        else:\n",
    "            print(\"You have items in your bag!\")\n",
    "            for item in self.items:\n",
    "                print(item)\n",
    "\n",
    "    # Show the capacity of ShoppingBag - how much room is left\n",
    "    def showCapacity(self):\n",
    "        print(f'Your capacity is: {self.capacity}')\n",
    "\n",
    "    # Add items to the item list for the shopping bag\n",
    "    def addToShoppingBag(self):\n",
    "        products = input('What would you like to add? ')\n",
    "        self.items.append(products)\n",
    "\n",
    "    # Change the capacity of the shoppingBag\n",
    "    def changeBagCapacity(self, capacity):\n",
    "        self.capacity = capacity\n",
    "\n",
    "    # Increase the capacity of the shoppingBag by a default amount that we set to 10\n",
    "\n",
    "    def increaseCapacity(self, changed_capacity = 10):\n",
    "        if self.capacity == isinstance(self.capacity, str):\n",
    "            print(\"We can't add that here\")\n",
    "        else:\n",
    "            self.capacity += changed_capacity\n",
    "\n"
   ]
  },
  {
   "cell_type": "markdown",
   "metadata": {},
   "source": [
    "##### Calling"
   ]
  },
  {
   "cell_type": "code",
   "execution_count": 15,
   "metadata": {},
   "outputs": [
    {
     "name": "stdout",
     "output_type": "stream",
     "text": [
      "You have items in your bag!\n",
      "bananas\n",
      "more bananas\n",
      "You have items in your bag!\n",
      "bananas\n",
      "more bananas\n",
      "Thanks for shopping\n"
     ]
    }
   ],
   "source": [
    "# See Above\n",
    "#So for we created the idea of a shopping bag; now we will actually instantiate and MAKE one, and use it!\n",
    "wholeFoods_bag = ShoppingBag(2, 10, [])\n",
    "\n",
    "#Create a function to run the ShoppingBag methods on our wholeFoods_bag instance\n",
    "def run():\n",
    "    while True:\n",
    "        response  = input('What do you want to do? add/show/quit ')\n",
    "\n",
    "        if response.lower() == 'quit':\n",
    "            wholeFoods_bag.showShoppingBag()\n",
    "            print ('Thanks for shopping')\n",
    "            break\n",
    "        elif response.lower() == 'add':\n",
    "            wholeFoods_bag.addToShoppingBag()\n",
    "        elif response.lower() == 'show':\n",
    "            wholeFoods_bag.showShoppingBag()\n",
    "        else:\n",
    "            print('Try another command')\n",
    "\n",
    "run()"
   ]
  },
  {
   "cell_type": "markdown",
   "metadata": {},
   "source": [
    "##### Modifying an Attribute's Value Through a Method"
   ]
  },
  {
   "cell_type": "code",
   "execution_count": 16,
   "metadata": {},
   "outputs": [
    {
     "name": "stdout",
     "output_type": "stream",
     "text": [
      "Your capacity is: 10\n",
      "Capacity AFTER the change...\n",
      "Your capacity is: 40\n"
     ]
    }
   ],
   "source": [
    "#Show the capacity\n",
    "wholeFoods_bag.showCapacity()\n",
    "print('Capacity AFTER the change...')\n",
    "wholeFoods_bag.changeBagCapacity(40)\n",
    "wholeFoods_bag.showCapacity()"
   ]
  },
  {
   "cell_type": "markdown",
   "metadata": {},
   "source": [
    "##### Incrementing an Attribute's Value Through a Method"
   ]
  },
  {
   "cell_type": "code",
   "execution_count": 17,
   "metadata": {},
   "outputs": [
    {
     "name": "stdout",
     "output_type": "stream",
     "text": [
      "Your capacity is: 40\n",
      "After increase:\n",
      "Your capacity is: 140\n"
     ]
    }
   ],
   "source": [
    "wholeFoods_bag.showCapacity()\n",
    "print('After increase:')\n",
    "wholeFoods_bag.increaseCapacity(100)\n",
    "wholeFoods_bag.showCapacity()"
   ]
  },
  {
   "cell_type": "markdown",
   "metadata": {},
   "source": [
    "##### In-Class Exercise #3 - Add a method that takes in three parameters of year, doors and seats and prints out a formatted print statement with make, model, year, seats, and doors"
   ]
  },
  {
   "cell_type": "code",
   "execution_count": 1,
   "metadata": {},
   "outputs": [
    {
     "name": "stdout",
     "output_type": "stream",
     "text": [
      "Hey, stop foolin' around...\n",
      "This beauty right here is from the year of our lord, 2019. You're looking at a Ford Explorer, with 4 nifty doors, and 5 fantastic seats.\n",
      "Oh, you don't want the Ford...? Well, this is a 1989, Chevy Crampo, with 1 doors, and 8 seats.\n",
      "Oh, you don't want the Ford...? Well, this is a 2023, Subaru Obsticle, with 0 doors, and 4 seats.\n",
      "Ok, enjoy getting around on foot :)\n"
     ]
    }
   ],
   "source": [
    "#SO, the code does work, and I don't think there are any mistakes, but something about Jupyter makes it glitchy.  It works perfectly in regular ol vscode.\n",
    "\n",
    "class Car:\n",
    "\n",
    "    def __init__(self, make = 'Ford', model = 'Explorer'):\n",
    "        self.make = make\n",
    "        self.model = model\n",
    "    \n",
    "    def ford_details(self, year, doors, seats):\n",
    "        print(f\"This beauty right here is from the year of our lord, {year}. You're looking at a {self.make} {self.model}, with {doors} nifty doors, and {seats} fantastic seats.\")\n",
    "    \n",
    "    def other_cars(self, year, doors, seats):\n",
    "        print(f\"Oh, you don't want the Ford...? Well, this is a {year}, {self.make} {self.model}, with {doors} doors, and {seats} seats.\")\n",
    "\n",
    "ford = Car()\n",
    "chevy = Car('Chevy', 'Crampo')\n",
    "subaru = Car('Subaru', \"Obsticle\")\n",
    "\n",
    "def shop():\n",
    "    while True: \n",
    "        response = input('Which car would you like to look at?\\nThe Ford: press 1\\nThe Chevy: press 2\\nThe Subaru: press 3 ')\n",
    "        if response == \"1\":\n",
    "            ford.ford_details(2019, 4, 5)\n",
    "        elif response == \"2\":\n",
    "            chevy.other_cars(1989, 1, 8)\n",
    "        elif response == '3':\n",
    "            subaru.other_cars(2023, 0, 4)\n",
    "        elif response.lower() == \"quit\":\n",
    "            print(\"Ok, enjoy getting around on foot :)\")\n",
    "            break\n",
    "        else:\n",
    "            print(\"Hey, stop foolin' around...\")\n",
    "\n",
    "\n",
    "shop()\n"
   ]
  },
  {
   "cell_type": "markdown",
   "metadata": {},
   "source": [
    "## Inheritance <br>\n",
    "<p>You can create a child-parent relationship between two classes by using inheritance. What this allows you to do is have overriding methods, but also inherit traits from the parent class. Think of it as an actual parent and child, the child will inherit the parent's genes, as will the classes in OOP</p>"
   ]
  },
  {
   "cell_type": "markdown",
   "metadata": {},
   "source": [
    "##### Syntax for Inheriting from a Parent Class"
   ]
  },
  {
   "cell_type": "code",
   "execution_count": 19,
   "metadata": {},
   "outputs": [
    {
     "name": "stdout",
     "output_type": "stream",
     "text": [
      "Bark\n",
      "Make some generic sound\n",
      "None\n",
      "9.8\n"
     ]
    }
   ],
   "source": [
    "#create a parent class and call it Animal\n",
    "class Animal():\n",
    "    acceleration  = 9.8\n",
    "\n",
    "    def __init__(self, name, species, legs = 4):\n",
    "        self.name = name\n",
    "        self.species = species\n",
    "        self.legs = legs\n",
    "\n",
    "    #generic parent method - This is not overriding anything\n",
    "    def makeSound(self):\n",
    "        print('Make some generic sound')\n",
    "\n",
    "#Now we are going to make a child class... Dog\n",
    "class Dog(Animal):\n",
    "    speed = 15\n",
    "\n",
    "    def printInfo(self):\n",
    "        print(f\"The dog has {self.speed}mph in speed and {self.acceleration}.\")\n",
    "\n",
    "#Creation of out grandchild class -- Mutt\n",
    "class Mutt(Dog):\n",
    "    color = \"Tan\"\n",
    "\n",
    "    #Override the animal class using the dog class to overwrite the __init__ from Animal.  This def__init__ overrides the one from the parent class.\n",
    "    def __init__(self, name, species, eye_color, legs = 4): #Here, we want to add eye_color, but we also don't want to have to write out all those \"self.thing\" statements, so...\n",
    "        Dog.__init__(self, name, species, legs) #So we reinitialize the __init__ from the Dog class, which is actually from the Animal class\n",
    "        self.eye_color = eye_color #Then you only have to do a \"self.\" statement for eye_color, the new attribute.\n",
    "\n",
    "    #override the makeSound method which is coming from... Animal\n",
    "    def makeSound(self):\n",
    "        noise = 'Bark'\n",
    "        return noise\n",
    "    \n",
    "lassie = Dog('Lassie', 'Dog',)\n",
    "basic_animal = Animal('Generic Animal Name', 'Generic Animal Species')\n",
    "buster = Mutt('Buster', 'Mutt', 'Brown')\n",
    "\n",
    "print(buster.makeSound())\n",
    "print(lassie.makeSound())\n",
    "print(buster.acceleration)"
   ]
  },
  {
   "cell_type": "markdown",
   "metadata": {},
   "source": [
    "##### The \\__init\\__() Method for a Child Class - super()"
   ]
  },
  {
   "cell_type": "code",
   "execution_count": 20,
   "metadata": {
    "scrolled": true
   },
   "outputs": [
    {
     "name": "stdout",
     "output_type": "stream",
     "text": [
      "Bark\n",
      "Make some generic sound\n",
      "None\n",
      "9.8\n",
      "15\n"
     ]
    }
   ],
   "source": [
    "class Puppy(Dog):\n",
    "    color = \"black and brown\"\n",
    "\n",
    "    #overridethe Animal class __init__ (via dog class)\n",
    "    def __init__(self, name, species, eye_color, legs = 4):\n",
    "        super(). __init__(name, species, legs)\n",
    "        self.eye_color = eye_color\n",
    "\n",
    "#Override the makeSound method\n",
    "def makeSound(self):\n",
    "    noise = 'Bark'\n",
    "    return noise\n",
    "\n",
    "lassie = Dog('Lassie', 'Dog',)\n",
    "basic_animal = Animal('Generic Animal Name', 'Generic Animal Species')\n",
    "buster = Mutt('Buster', 'Mutt', 'Brown')\n",
    "\n",
    "print(buster.makeSound())\n",
    "print(lassie.makeSound())\n",
    "print(buster.acceleration)\n",
    "print(buster.speed)"
   ]
  },
  {
   "cell_type": "markdown",
   "metadata": {},
   "source": [
    "##### Defining Attributes and Methods for the Child Class"
   ]
  },
  {
   "cell_type": "code",
   "execution_count": null,
   "metadata": {},
   "outputs": [],
   "source": [
    "# See Above"
   ]
  },
  {
   "cell_type": "markdown",
   "metadata": {},
   "source": [
    "##### Method Overriding"
   ]
  },
  {
   "cell_type": "code",
   "execution_count": null,
   "metadata": {},
   "outputs": [],
   "source": [
    "# See Above"
   ]
  },
  {
   "cell_type": "markdown",
   "metadata": {},
   "source": [
    "## Classes as Attributes <br>\n",
    "<p>Classes can also be used as attributes within another class. This is useful in situations where you need to keep variables locally stored, instead of globally stored.</p>"
   ]
  },
  {
   "cell_type": "code",
   "execution_count": 21,
   "metadata": {},
   "outputs": [],
   "source": [
    "class Battery():\n",
    "    volts = 7.8\n",
    "\n",
    "    def __init__(self, cells):\n",
    "        self.cells = cells\n",
    "\n",
    "class Car():\n",
    "    def __init__(self, year, make, model, battery):\n",
    "        self.year = year\n",
    "        self.make = make\n",
    "        self.model = model\n",
    "        self.battery = battery\n",
    "    \n",
    "    def printInfo(self):\n",
    "        return(f'{self.year} {self.make} {self.model} {self.battery.cells}')"
   ]
  },
  {
   "cell_type": "markdown",
   "metadata": {},
   "source": [
    "# Exercises"
   ]
  },
  {
   "cell_type": "markdown",
   "metadata": {},
   "source": [
    "### Exercise 1 - Turn the shopping cart program from yesterday into an object-oriented program\n",
    "\n",
    "The comments in the cell below are there as a guide for thinking about the problem. However, if you feel a different way is best for you and your own thought process, please do what feels best for you by all means."
   ]
  },
  {
   "cell_type": "code",
   "execution_count": 23,
   "metadata": {},
   "outputs": [
    {
     "name": "stdout",
     "output_type": "stream",
     "text": [
      "1000 bananas(s) have been added to your cart\n",
      "----------Justin's cart at The Banana Store---------\n",
      "bananas 1000\n",
      "----------Justin's cart at The Banana Store---------\n",
      "bananas 1000\n"
     ]
    }
   ],
   "source": [
    "# Create a class called cart that retains items and has methods to add, remove, and show\n",
    "#It's not loke I'm obsessed with bananas or anything... why would you even think that?\n",
    "\n",
    "class Cart():\n",
    "    def __init__(self, name, store):\n",
    "        self.name = name\n",
    "        self.store = store\n",
    "        self.cart = {}\n",
    "    \n",
    "    #-----Function to add to cart-----\n",
    "    def add_item(self):\n",
    "        item = input('What will you add to your cart?')\n",
    "        quant = input('How much/many do you want?')\n",
    "        self.cart[item] = quant\n",
    "        print(f'{quant} {item}(s) have been added to your cart')\n",
    "\n",
    "    #-----Function to delete from cart-----\n",
    "    def del_items(self):\n",
    "        item = input('What will you remove from your cart?')\n",
    "        if item in self.cart:\n",
    "            print(f'{item} has been removed from cart')\n",
    "            del self.cart[item]\n",
    "            print(f'You currently have {self.cart} in your cart')\n",
    "        else:\n",
    "            return f'{item} is currently not in your cart'\n",
    "\n",
    "    #-----Function to show cart items-----\n",
    "    def show_cart(self):\n",
    "        print(f\"----------{self.name}'s cart at {self.store}---------\")\n",
    "        for key, value in self.cart.items():\n",
    "            print(key, value)\n",
    "            \n",
    "    #-----Runner Function-----\n",
    "    def runner(self):\n",
    "        while True:\n",
    "            choice = input(\"What would you like to do? (add, show, or delete) (type 'q' to quit)\").lower()\n",
    "            if choice == 'q':\n",
    "                self.show_cart()\n",
    "                break\n",
    "            elif choice == 'add':\n",
    "                self.add_item()\n",
    "            elif choice == 'delete':\n",
    "                self.del_items()\n",
    "            elif choice == 'show':\n",
    "                self.show_cart()\n",
    "            else:\n",
    "                print('Invalid option, please try again')\n",
    "\n",
    "\n",
    "my_cart = Cart('Justin', 'The Banana Store')\n",
    "my_cart.runner()"
   ]
  },
  {
   "cell_type": "markdown",
   "metadata": {},
   "source": [
    "### Exercise 2 - Write a Python class which has two methods get_String and print_String. get_String accept a string from the user and print_String print the string in upper case"
   ]
  },
  {
   "cell_type": "code",
   "execution_count": 25,
   "metadata": {},
   "outputs": [
    {
     "name": "stdout",
     "output_type": "stream",
     "text": [
      "SOMETHING\n"
     ]
    }
   ],
   "source": [
    "class String():\n",
    "    def __init__(self, name):\n",
    "        self.name = name\n",
    "    \n",
    "    #---function to accept string from user---\n",
    "    def get_String(self):\n",
    "        string = input('Type something:')\n",
    "\n",
    "    #---function to print string in uppercase---\n",
    "    def print_String(self, string):\n",
    "        print(str(string).upper())\n",
    "\n",
    "cameron = String('Justin')\n",
    "cameron.print_String('something')"
   ]
  }
 ],
 "metadata": {
  "kernelspec": {
   "display_name": "Python 3",
   "language": "python",
   "name": "python3"
  },
  "language_info": {
   "codemirror_mode": {
    "name": "ipython",
    "version": 3
   },
   "file_extension": ".py",
   "mimetype": "text/x-python",
   "name": "python",
   "nbconvert_exporter": "python",
   "pygments_lexer": "ipython3",
   "version": "3.11.2"
  }
 },
 "nbformat": 4,
 "nbformat_minor": 2
}
